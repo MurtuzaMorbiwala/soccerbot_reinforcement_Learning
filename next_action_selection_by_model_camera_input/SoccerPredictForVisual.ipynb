{
 "cells": [
  {
   "cell_type": "code",
   "execution_count": 3,
   "metadata": {
    "collapsed": false
   },
   "outputs": [
    {
     "name": "stdout",
     "output_type": "stream",
     "text": [
      "INFO:tensorflow:Restoring parameters from C:/Users/mmorbiwala/Desktop/HackathonProject/PratikUpdatedFiles/Savemodel/model.ckpt\n",
      "2\n"
     ]
    }
   ],
   "source": [
    "import tensorflow as tf\n",
    "import ScoccerWorld as sc\n",
    "env = sc.Soccerworld()\n",
    "import numpy as np\n",
    "observations = env.countstate\n",
    "actions = 4\n",
    "e = 0.1\n",
    "\n",
    "inputs1 = tf.placeholder(shape=[1,observations],dtype=tf.float32)\n",
    "\n",
    "\n",
    "\n",
    "def soccerpredict(xa,ya,xb,yb):\n",
    "    s = env.getstate(xa,ya,xb,yb)\n",
    "    with tf.Session() as sess:\n",
    "        new_saver = tf.train.import_meta_graph('C:/Users/mmorbiwala/Desktop/HackathonProject/PratikUpdatedFiles/Savemodel/model.ckpt.meta')\n",
    "        new_saver.restore(sess, tf.train.latest_checkpoint('C:/Users/mmorbiwala/Desktop/HackathonProject/PratikUpdatedFiles/Savemodel/'))\n",
    "        graph = tf.get_default_graph()\n",
    "        W = graph.get_tensor_by_name(\"W:0\")\n",
    "        Qout = tf.matmul(inputs1,W)\n",
    "        predict = tf.argmax(Qout,1)\n",
    "        a,allQ = sess.run([predict,Qout],feed_dict={inputs1:np.identity(observations)[s:s+1]})\n",
    "        return a[0]\n"
   ]
  },
  {
   "cell_type": "code",
   "execution_count": null,
   "metadata": {
    "collapsed": true
   },
   "outputs": [],
   "source": []
  }
 ],
 "metadata": {
  "anaconda-cloud": {},
  "kernelspec": {
   "display_name": "Python [conda root]",
   "language": "python",
   "name": "conda-root-py"
  },
  "language_info": {
   "codemirror_mode": {
    "name": "ipython",
    "version": 3
   },
   "file_extension": ".py",
   "mimetype": "text/x-python",
   "name": "python",
   "nbconvert_exporter": "python",
   "pygments_lexer": "ipython3",
   "version": "3.5.2"
  }
 },
 "nbformat": 4,
 "nbformat_minor": 1
}
